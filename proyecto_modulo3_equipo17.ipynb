{
  "nbformat": 4,
  "nbformat_minor": 0,
  "metadata": {
    "colab": {
      "name": "proyecto_modulo3_equipo17.ipynb",
      "provenance": [],
      "collapsed_sections": []
    },
    "kernelspec": {
      "name": "python3",
      "display_name": "Python 3"
    },
    "language_info": {
      "name": "python"
    }
  },
  "cells": [
    {
      "cell_type": "markdown",
      "metadata": {
        "id": "w41cn6qXzBxP"
      },
      "source": [
        "## Análisis exploratorio de los datos"
      ]
    },
    {
      "cell_type": "code",
      "metadata": {
        "id": "Vz4HuJDAaptA",
        "colab": {
          "base_uri": "https://localhost:8080/",
          "height": 752
        },
        "outputId": "fdfed8f8-6c99-4810-dd86-1a4a9b74c57c"
      },
      "source": [
        "import pandas as pd\n",
        "\n",
        "#df = pd.read_csv('/content/country_vaccinations.csv')\n",
        "df = pd.read_csv('/content/sample_data/country_vaccinations.csv')\n",
        "df.info()\n",
        "df.head()"
      ],
      "execution_count": 1,
      "outputs": [
        {
          "output_type": "stream",
          "text": [
            "<class 'pandas.core.frame.DataFrame'>\n",
            "RangeIndex: 36736 entries, 0 to 36735\n",
            "Data columns (total 15 columns):\n",
            " #   Column                               Non-Null Count  Dtype  \n",
            "---  ------                               --------------  -----  \n",
            " 0   country                              36736 non-null  object \n",
            " 1   iso_code                             36736 non-null  object \n",
            " 2   date                                 36736 non-null  object \n",
            " 3   total_vaccinations                   20250 non-null  float64\n",
            " 4   people_vaccinated                    19330 non-null  float64\n",
            " 5   people_fully_vaccinated              16467 non-null  float64\n",
            " 6   daily_vaccinations_raw               16671 non-null  float64\n",
            " 7   daily_vaccinations                   36494 non-null  float64\n",
            " 8   total_vaccinations_per_hundred       20250 non-null  float64\n",
            " 9   people_vaccinated_per_hundred        19330 non-null  float64\n",
            " 10  people_fully_vaccinated_per_hundred  16467 non-null  float64\n",
            " 11  daily_vaccinations_per_million       36494 non-null  float64\n",
            " 12  vaccines                             36736 non-null  object \n",
            " 13  source_name                          36736 non-null  object \n",
            " 14  source_website                       36736 non-null  object \n",
            "dtypes: float64(9), object(6)\n",
            "memory usage: 4.2+ MB\n"
          ],
          "name": "stdout"
        },
        {
          "output_type": "execute_result",
          "data": {
            "text/html": [
              "<div>\n",
              "<style scoped>\n",
              "    .dataframe tbody tr th:only-of-type {\n",
              "        vertical-align: middle;\n",
              "    }\n",
              "\n",
              "    .dataframe tbody tr th {\n",
              "        vertical-align: top;\n",
              "    }\n",
              "\n",
              "    .dataframe thead th {\n",
              "        text-align: right;\n",
              "    }\n",
              "</style>\n",
              "<table border=\"1\" class=\"dataframe\">\n",
              "  <thead>\n",
              "    <tr style=\"text-align: right;\">\n",
              "      <th></th>\n",
              "      <th>country</th>\n",
              "      <th>iso_code</th>\n",
              "      <th>date</th>\n",
              "      <th>total_vaccinations</th>\n",
              "      <th>people_vaccinated</th>\n",
              "      <th>people_fully_vaccinated</th>\n",
              "      <th>daily_vaccinations_raw</th>\n",
              "      <th>daily_vaccinations</th>\n",
              "      <th>total_vaccinations_per_hundred</th>\n",
              "      <th>people_vaccinated_per_hundred</th>\n",
              "      <th>people_fully_vaccinated_per_hundred</th>\n",
              "      <th>daily_vaccinations_per_million</th>\n",
              "      <th>vaccines</th>\n",
              "      <th>source_name</th>\n",
              "      <th>source_website</th>\n",
              "    </tr>\n",
              "  </thead>\n",
              "  <tbody>\n",
              "    <tr>\n",
              "      <th>0</th>\n",
              "      <td>Afghanistan</td>\n",
              "      <td>AFG</td>\n",
              "      <td>2021-02-22</td>\n",
              "      <td>0.0</td>\n",
              "      <td>0.0</td>\n",
              "      <td>NaN</td>\n",
              "      <td>NaN</td>\n",
              "      <td>NaN</td>\n",
              "      <td>0.0</td>\n",
              "      <td>0.0</td>\n",
              "      <td>NaN</td>\n",
              "      <td>NaN</td>\n",
              "      <td>Johnson&amp;Johnson, Oxford/AstraZeneca, Pfizer/Bi...</td>\n",
              "      <td>World Health Organization</td>\n",
              "      <td>https://covid19.who.int/</td>\n",
              "    </tr>\n",
              "    <tr>\n",
              "      <th>1</th>\n",
              "      <td>Afghanistan</td>\n",
              "      <td>AFG</td>\n",
              "      <td>2021-02-23</td>\n",
              "      <td>NaN</td>\n",
              "      <td>NaN</td>\n",
              "      <td>NaN</td>\n",
              "      <td>NaN</td>\n",
              "      <td>1367.0</td>\n",
              "      <td>NaN</td>\n",
              "      <td>NaN</td>\n",
              "      <td>NaN</td>\n",
              "      <td>35.0</td>\n",
              "      <td>Johnson&amp;Johnson, Oxford/AstraZeneca, Pfizer/Bi...</td>\n",
              "      <td>World Health Organization</td>\n",
              "      <td>https://covid19.who.int/</td>\n",
              "    </tr>\n",
              "    <tr>\n",
              "      <th>2</th>\n",
              "      <td>Afghanistan</td>\n",
              "      <td>AFG</td>\n",
              "      <td>2021-02-24</td>\n",
              "      <td>NaN</td>\n",
              "      <td>NaN</td>\n",
              "      <td>NaN</td>\n",
              "      <td>NaN</td>\n",
              "      <td>1367.0</td>\n",
              "      <td>NaN</td>\n",
              "      <td>NaN</td>\n",
              "      <td>NaN</td>\n",
              "      <td>35.0</td>\n",
              "      <td>Johnson&amp;Johnson, Oxford/AstraZeneca, Pfizer/Bi...</td>\n",
              "      <td>World Health Organization</td>\n",
              "      <td>https://covid19.who.int/</td>\n",
              "    </tr>\n",
              "    <tr>\n",
              "      <th>3</th>\n",
              "      <td>Afghanistan</td>\n",
              "      <td>AFG</td>\n",
              "      <td>2021-02-25</td>\n",
              "      <td>NaN</td>\n",
              "      <td>NaN</td>\n",
              "      <td>NaN</td>\n",
              "      <td>NaN</td>\n",
              "      <td>1367.0</td>\n",
              "      <td>NaN</td>\n",
              "      <td>NaN</td>\n",
              "      <td>NaN</td>\n",
              "      <td>35.0</td>\n",
              "      <td>Johnson&amp;Johnson, Oxford/AstraZeneca, Pfizer/Bi...</td>\n",
              "      <td>World Health Organization</td>\n",
              "      <td>https://covid19.who.int/</td>\n",
              "    </tr>\n",
              "    <tr>\n",
              "      <th>4</th>\n",
              "      <td>Afghanistan</td>\n",
              "      <td>AFG</td>\n",
              "      <td>2021-02-26</td>\n",
              "      <td>NaN</td>\n",
              "      <td>NaN</td>\n",
              "      <td>NaN</td>\n",
              "      <td>NaN</td>\n",
              "      <td>1367.0</td>\n",
              "      <td>NaN</td>\n",
              "      <td>NaN</td>\n",
              "      <td>NaN</td>\n",
              "      <td>35.0</td>\n",
              "      <td>Johnson&amp;Johnson, Oxford/AstraZeneca, Pfizer/Bi...</td>\n",
              "      <td>World Health Organization</td>\n",
              "      <td>https://covid19.who.int/</td>\n",
              "    </tr>\n",
              "  </tbody>\n",
              "</table>\n",
              "</div>"
            ],
            "text/plain": [
              "       country iso_code  ...                source_name            source_website\n",
              "0  Afghanistan      AFG  ...  World Health Organization  https://covid19.who.int/\n",
              "1  Afghanistan      AFG  ...  World Health Organization  https://covid19.who.int/\n",
              "2  Afghanistan      AFG  ...  World Health Organization  https://covid19.who.int/\n",
              "3  Afghanistan      AFG  ...  World Health Organization  https://covid19.who.int/\n",
              "4  Afghanistan      AFG  ...  World Health Organization  https://covid19.who.int/\n",
              "\n",
              "[5 rows x 15 columns]"
            ]
          },
          "metadata": {
            "tags": []
          },
          "execution_count": 1
        }
      ]
    },
    {
      "cell_type": "markdown",
      "metadata": {
        "id": "fXER_ROkuyIW"
      },
      "source": [
        "La base de datos contiene 33,725 registros y 15 columnas, dichas columnas tienen nombres que cumplen con las convenciones de Python. \n",
        "\n",
        "Algunas de nuestras columnas parecen no tener el tipo de dato correcto, por ejemplo la columna *date* es de tipo object en lugar de un *datetime*, sin embargo se hablará más a profundidad de ello en la sección de *Transformación de datos*.\n",
        "\n",
        "Al observar los primeros registros de la base de datos es posible apreciar la existencia de NaN, lo que indica que la base de datos deberá limpiarse para poder realizar análisis apropiadamente. Esto se abordará en la siguiente sección."
      ]
    },
    {
      "cell_type": "markdown",
      "metadata": {
        "id": "663MdLu8r3pP"
      },
      "source": [
        "## Limpieza de datos\n",
        "Se eliminarán las filas que no contengan los datos más relevantes, es decir, aquellos en los que no se dispone de información oficial acerca de las siguientes variables:\n",
        "\n",
        "*   total_vaccinations: Total de vacunas aplicadas a la fecha\n",
        "*   people_vaccinated: Total de personas con al menos una dosia (independientemente de su esquema de vacunación, de acuerdo a la marca) a la fecha\n",
        "*   people_fully_vaccinated: Total de personas cuyo esquema de vacunación ha sido completado a la fecha\n",
        "<br><br>\n",
        "Pasamos de 36,901 a 16,505 registros"
      ]
    },
    {
      "cell_type": "code",
      "metadata": {
        "colab": {
          "base_uri": "https://localhost:8080/",
          "height": 752
        },
        "id": "2AOqG0AEr4ZH",
        "outputId": "9d56a0a3-6d8f-46c9-dcf1-772d3f786e2e"
      },
      "source": [
        "df = df.dropna(subset=['total_vaccinations', 'people_vaccinated', 'people_fully_vaccinated'])\n",
        "df = df.reset_index(drop=True)\n",
        "df.info()\n",
        "df.head()"
      ],
      "execution_count": 2,
      "outputs": [
        {
          "output_type": "stream",
          "text": [
            "<class 'pandas.core.frame.DataFrame'>\n",
            "RangeIndex: 16400 entries, 0 to 16399\n",
            "Data columns (total 15 columns):\n",
            " #   Column                               Non-Null Count  Dtype  \n",
            "---  ------                               --------------  -----  \n",
            " 0   country                              16400 non-null  object \n",
            " 1   iso_code                             16400 non-null  object \n",
            " 2   date                                 16400 non-null  object \n",
            " 3   total_vaccinations                   16400 non-null  float64\n",
            " 4   people_vaccinated                    16400 non-null  float64\n",
            " 5   people_fully_vaccinated              16400 non-null  float64\n",
            " 6   daily_vaccinations_raw               13987 non-null  float64\n",
            " 7   daily_vaccinations                   16385 non-null  float64\n",
            " 8   total_vaccinations_per_hundred       16400 non-null  float64\n",
            " 9   people_vaccinated_per_hundred        16400 non-null  float64\n",
            " 10  people_fully_vaccinated_per_hundred  16400 non-null  float64\n",
            " 11  daily_vaccinations_per_million       16385 non-null  float64\n",
            " 12  vaccines                             16400 non-null  object \n",
            " 13  source_name                          16400 non-null  object \n",
            " 14  source_website                       16400 non-null  object \n",
            "dtypes: float64(9), object(6)\n",
            "memory usage: 1.9+ MB\n"
          ],
          "name": "stdout"
        },
        {
          "output_type": "execute_result",
          "data": {
            "text/html": [
              "<div>\n",
              "<style scoped>\n",
              "    .dataframe tbody tr th:only-of-type {\n",
              "        vertical-align: middle;\n",
              "    }\n",
              "\n",
              "    .dataframe tbody tr th {\n",
              "        vertical-align: top;\n",
              "    }\n",
              "\n",
              "    .dataframe thead th {\n",
              "        text-align: right;\n",
              "    }\n",
              "</style>\n",
              "<table border=\"1\" class=\"dataframe\">\n",
              "  <thead>\n",
              "    <tr style=\"text-align: right;\">\n",
              "      <th></th>\n",
              "      <th>country</th>\n",
              "      <th>iso_code</th>\n",
              "      <th>date</th>\n",
              "      <th>total_vaccinations</th>\n",
              "      <th>people_vaccinated</th>\n",
              "      <th>people_fully_vaccinated</th>\n",
              "      <th>daily_vaccinations_raw</th>\n",
              "      <th>daily_vaccinations</th>\n",
              "      <th>total_vaccinations_per_hundred</th>\n",
              "      <th>people_vaccinated_per_hundred</th>\n",
              "      <th>people_fully_vaccinated_per_hundred</th>\n",
              "      <th>daily_vaccinations_per_million</th>\n",
              "      <th>vaccines</th>\n",
              "      <th>source_name</th>\n",
              "      <th>source_website</th>\n",
              "    </tr>\n",
              "  </thead>\n",
              "  <tbody>\n",
              "    <tr>\n",
              "      <th>0</th>\n",
              "      <td>Afghanistan</td>\n",
              "      <td>AFG</td>\n",
              "      <td>2021-05-11</td>\n",
              "      <td>504502.0</td>\n",
              "      <td>448878.0</td>\n",
              "      <td>55624.0</td>\n",
              "      <td>NaN</td>\n",
              "      <td>13921.0</td>\n",
              "      <td>1.30</td>\n",
              "      <td>1.15</td>\n",
              "      <td>0.14</td>\n",
              "      <td>358.0</td>\n",
              "      <td>Johnson&amp;Johnson, Oxford/AstraZeneca, Pfizer/Bi...</td>\n",
              "      <td>World Health Organization</td>\n",
              "      <td>https://covid19.who.int/</td>\n",
              "    </tr>\n",
              "    <tr>\n",
              "      <th>1</th>\n",
              "      <td>Afghanistan</td>\n",
              "      <td>AFG</td>\n",
              "      <td>2021-05-20</td>\n",
              "      <td>547901.0</td>\n",
              "      <td>470341.0</td>\n",
              "      <td>77560.0</td>\n",
              "      <td>NaN</td>\n",
              "      <td>4822.0</td>\n",
              "      <td>1.41</td>\n",
              "      <td>1.21</td>\n",
              "      <td>0.20</td>\n",
              "      <td>124.0</td>\n",
              "      <td>Johnson&amp;Johnson, Oxford/AstraZeneca, Pfizer/Bi...</td>\n",
              "      <td>World Health Organization</td>\n",
              "      <td>https://covid19.who.int/</td>\n",
              "    </tr>\n",
              "    <tr>\n",
              "      <th>2</th>\n",
              "      <td>Afghanistan</td>\n",
              "      <td>AFG</td>\n",
              "      <td>2021-05-24</td>\n",
              "      <td>573277.0</td>\n",
              "      <td>476367.0</td>\n",
              "      <td>96910.0</td>\n",
              "      <td>NaN</td>\n",
              "      <td>5692.0</td>\n",
              "      <td>1.47</td>\n",
              "      <td>1.22</td>\n",
              "      <td>0.25</td>\n",
              "      <td>146.0</td>\n",
              "      <td>Johnson&amp;Johnson, Oxford/AstraZeneca, Pfizer/Bi...</td>\n",
              "      <td>World Health Organization</td>\n",
              "      <td>https://covid19.who.int/</td>\n",
              "    </tr>\n",
              "    <tr>\n",
              "      <th>3</th>\n",
              "      <td>Afghanistan</td>\n",
              "      <td>AFG</td>\n",
              "      <td>2021-05-26</td>\n",
              "      <td>590454.0</td>\n",
              "      <td>479372.0</td>\n",
              "      <td>111082.0</td>\n",
              "      <td>NaN</td>\n",
              "      <td>6768.0</td>\n",
              "      <td>1.52</td>\n",
              "      <td>1.23</td>\n",
              "      <td>0.29</td>\n",
              "      <td>174.0</td>\n",
              "      <td>Johnson&amp;Johnson, Oxford/AstraZeneca, Pfizer/Bi...</td>\n",
              "      <td>World Health Organization</td>\n",
              "      <td>https://covid19.who.int/</td>\n",
              "    </tr>\n",
              "    <tr>\n",
              "      <th>4</th>\n",
              "      <td>Afghanistan</td>\n",
              "      <td>AFG</td>\n",
              "      <td>2021-05-27</td>\n",
              "      <td>593313.0</td>\n",
              "      <td>479574.0</td>\n",
              "      <td>113739.0</td>\n",
              "      <td>2859.0</td>\n",
              "      <td>6487.0</td>\n",
              "      <td>1.52</td>\n",
              "      <td>1.23</td>\n",
              "      <td>0.29</td>\n",
              "      <td>167.0</td>\n",
              "      <td>Johnson&amp;Johnson, Oxford/AstraZeneca, Pfizer/Bi...</td>\n",
              "      <td>World Health Organization</td>\n",
              "      <td>https://covid19.who.int/</td>\n",
              "    </tr>\n",
              "  </tbody>\n",
              "</table>\n",
              "</div>"
            ],
            "text/plain": [
              "       country iso_code  ...                source_name            source_website\n",
              "0  Afghanistan      AFG  ...  World Health Organization  https://covid19.who.int/\n",
              "1  Afghanistan      AFG  ...  World Health Organization  https://covid19.who.int/\n",
              "2  Afghanistan      AFG  ...  World Health Organization  https://covid19.who.int/\n",
              "3  Afghanistan      AFG  ...  World Health Organization  https://covid19.who.int/\n",
              "4  Afghanistan      AFG  ...  World Health Organization  https://covid19.who.int/\n",
              "\n",
              "[5 rows x 15 columns]"
            ]
          },
          "metadata": {
            "tags": []
          },
          "execution_count": 2
        }
      ]
    },
    {
      "cell_type": "markdown",
      "metadata": {
        "id": "UZv1y5JsCXrz"
      },
      "source": [
        "Como se puede apreciar, la columna *daily_vaccinations_raw* aún presenta varios NaN, esto es debido a que dicha columna indica el número de vacunas administradas diariamente (sin tratar de distribuir vacunas en periodos más largos), sin embargo por diversos factores muchos países no pueden ofrecer datos diariamente, como por ejemplo Afganistán al visualizar los primeros registros.\n",
        "\n",
        "Vamos a verificar si existen más columnas con valores NaN."
      ]
    },
    {
      "cell_type": "code",
      "metadata": {
        "colab": {
          "base_uri": "https://localhost:8080/"
        },
        "id": "ZsRod_d9CW68",
        "outputId": "ba3cc577-7a25-4c57-b594-4a73d42db97f"
      },
      "source": [
        "df.isna().sum()"
      ],
      "execution_count": 3,
      "outputs": [
        {
          "output_type": "execute_result",
          "data": {
            "text/plain": [
              "country                                   0\n",
              "iso_code                                  0\n",
              "date                                      0\n",
              "total_vaccinations                        0\n",
              "people_vaccinated                         0\n",
              "people_fully_vaccinated                   0\n",
              "daily_vaccinations_raw                 2413\n",
              "daily_vaccinations                       15\n",
              "total_vaccinations_per_hundred            0\n",
              "people_vaccinated_per_hundred             0\n",
              "people_fully_vaccinated_per_hundred       0\n",
              "daily_vaccinations_per_million           15\n",
              "vaccines                                  0\n",
              "source_name                               0\n",
              "source_website                            0\n",
              "dtype: int64"
            ]
          },
          "metadata": {
            "tags": []
          },
          "execution_count": 3
        }
      ]
    },
    {
      "cell_type": "markdown",
      "metadata": {
        "id": "fJ5Lsc-xFtcN"
      },
      "source": [
        "Como se puede apreciar, existen 15 registros NaN en la columna daily_vaccinations (y en su equivalente per_million). Estos datos podrían ser rellenados con valor 0, debido a que representan un porcentaje muy pequeño del total de registros. Por otro lado, la columna daily_vaccinations_raw posee casi un 15% de valores NaN, por lo que se decidió eliminarla de la base de datos, ya que existe la columna daily_vaccinations que ofrece información similar, pero no presenta valores NaN."
      ]
    },
    {
      "cell_type": "code",
      "metadata": {
        "colab": {
          "base_uri": "https://localhost:8080/"
        },
        "id": "xcr2cEtQFUuS",
        "outputId": "4e376c56-24f0-4612-a1b0-4ba0ff7f81c9"
      },
      "source": [
        "df['daily_vaccinations'] = df['daily_vaccinations'].fillna(0)\n",
        "df['daily_vaccinations_per_million'] = df['daily_vaccinations_per_million'].fillna(0)\n",
        "df = df.drop(['daily_vaccinations_raw'], axis=1)\n",
        "df.isna().sum()"
      ],
      "execution_count": 4,
      "outputs": [
        {
          "output_type": "execute_result",
          "data": {
            "text/plain": [
              "country                                0\n",
              "iso_code                               0\n",
              "date                                   0\n",
              "total_vaccinations                     0\n",
              "people_vaccinated                      0\n",
              "people_fully_vaccinated                0\n",
              "daily_vaccinations                     0\n",
              "total_vaccinations_per_hundred         0\n",
              "people_vaccinated_per_hundred          0\n",
              "people_fully_vaccinated_per_hundred    0\n",
              "daily_vaccinations_per_million         0\n",
              "vaccines                               0\n",
              "source_name                            0\n",
              "source_website                         0\n",
              "dtype: int64"
            ]
          },
          "metadata": {
            "tags": []
          },
          "execution_count": 4
        }
      ]
    },
    {
      "cell_type": "markdown",
      "metadata": {
        "id": "v3Ta-Re8I314"
      },
      "source": [
        "Finalmente nuestra base de datos ya está limpia. El siguiente paso será revisar si las diferentes variables poseen el tipo de variable apropiado. Vamos a darle un vistazo a los primeros registros de la base de datos y a su información."
      ]
    },
    {
      "cell_type": "code",
      "metadata": {
        "colab": {
          "base_uri": "https://localhost:8080/",
          "height": 736
        },
        "id": "O9t2aQ66JkPZ",
        "outputId": "9be37793-679a-4f87-df2d-608948b225a5"
      },
      "source": [
        "df.info()\n",
        "df.head()"
      ],
      "execution_count": 5,
      "outputs": [
        {
          "output_type": "stream",
          "text": [
            "<class 'pandas.core.frame.DataFrame'>\n",
            "RangeIndex: 16400 entries, 0 to 16399\n",
            "Data columns (total 14 columns):\n",
            " #   Column                               Non-Null Count  Dtype  \n",
            "---  ------                               --------------  -----  \n",
            " 0   country                              16400 non-null  object \n",
            " 1   iso_code                             16400 non-null  object \n",
            " 2   date                                 16400 non-null  object \n",
            " 3   total_vaccinations                   16400 non-null  float64\n",
            " 4   people_vaccinated                    16400 non-null  float64\n",
            " 5   people_fully_vaccinated              16400 non-null  float64\n",
            " 6   daily_vaccinations                   16400 non-null  float64\n",
            " 7   total_vaccinations_per_hundred       16400 non-null  float64\n",
            " 8   people_vaccinated_per_hundred        16400 non-null  float64\n",
            " 9   people_fully_vaccinated_per_hundred  16400 non-null  float64\n",
            " 10  daily_vaccinations_per_million       16400 non-null  float64\n",
            " 11  vaccines                             16400 non-null  object \n",
            " 12  source_name                          16400 non-null  object \n",
            " 13  source_website                       16400 non-null  object \n",
            "dtypes: float64(8), object(6)\n",
            "memory usage: 1.8+ MB\n"
          ],
          "name": "stdout"
        },
        {
          "output_type": "execute_result",
          "data": {
            "text/html": [
              "<div>\n",
              "<style scoped>\n",
              "    .dataframe tbody tr th:only-of-type {\n",
              "        vertical-align: middle;\n",
              "    }\n",
              "\n",
              "    .dataframe tbody tr th {\n",
              "        vertical-align: top;\n",
              "    }\n",
              "\n",
              "    .dataframe thead th {\n",
              "        text-align: right;\n",
              "    }\n",
              "</style>\n",
              "<table border=\"1\" class=\"dataframe\">\n",
              "  <thead>\n",
              "    <tr style=\"text-align: right;\">\n",
              "      <th></th>\n",
              "      <th>country</th>\n",
              "      <th>iso_code</th>\n",
              "      <th>date</th>\n",
              "      <th>total_vaccinations</th>\n",
              "      <th>people_vaccinated</th>\n",
              "      <th>people_fully_vaccinated</th>\n",
              "      <th>daily_vaccinations</th>\n",
              "      <th>total_vaccinations_per_hundred</th>\n",
              "      <th>people_vaccinated_per_hundred</th>\n",
              "      <th>people_fully_vaccinated_per_hundred</th>\n",
              "      <th>daily_vaccinations_per_million</th>\n",
              "      <th>vaccines</th>\n",
              "      <th>source_name</th>\n",
              "      <th>source_website</th>\n",
              "    </tr>\n",
              "  </thead>\n",
              "  <tbody>\n",
              "    <tr>\n",
              "      <th>0</th>\n",
              "      <td>Afghanistan</td>\n",
              "      <td>AFG</td>\n",
              "      <td>2021-05-11</td>\n",
              "      <td>504502.0</td>\n",
              "      <td>448878.0</td>\n",
              "      <td>55624.0</td>\n",
              "      <td>13921.0</td>\n",
              "      <td>1.30</td>\n",
              "      <td>1.15</td>\n",
              "      <td>0.14</td>\n",
              "      <td>358.0</td>\n",
              "      <td>Johnson&amp;Johnson, Oxford/AstraZeneca, Pfizer/Bi...</td>\n",
              "      <td>World Health Organization</td>\n",
              "      <td>https://covid19.who.int/</td>\n",
              "    </tr>\n",
              "    <tr>\n",
              "      <th>1</th>\n",
              "      <td>Afghanistan</td>\n",
              "      <td>AFG</td>\n",
              "      <td>2021-05-20</td>\n",
              "      <td>547901.0</td>\n",
              "      <td>470341.0</td>\n",
              "      <td>77560.0</td>\n",
              "      <td>4822.0</td>\n",
              "      <td>1.41</td>\n",
              "      <td>1.21</td>\n",
              "      <td>0.20</td>\n",
              "      <td>124.0</td>\n",
              "      <td>Johnson&amp;Johnson, Oxford/AstraZeneca, Pfizer/Bi...</td>\n",
              "      <td>World Health Organization</td>\n",
              "      <td>https://covid19.who.int/</td>\n",
              "    </tr>\n",
              "    <tr>\n",
              "      <th>2</th>\n",
              "      <td>Afghanistan</td>\n",
              "      <td>AFG</td>\n",
              "      <td>2021-05-24</td>\n",
              "      <td>573277.0</td>\n",
              "      <td>476367.0</td>\n",
              "      <td>96910.0</td>\n",
              "      <td>5692.0</td>\n",
              "      <td>1.47</td>\n",
              "      <td>1.22</td>\n",
              "      <td>0.25</td>\n",
              "      <td>146.0</td>\n",
              "      <td>Johnson&amp;Johnson, Oxford/AstraZeneca, Pfizer/Bi...</td>\n",
              "      <td>World Health Organization</td>\n",
              "      <td>https://covid19.who.int/</td>\n",
              "    </tr>\n",
              "    <tr>\n",
              "      <th>3</th>\n",
              "      <td>Afghanistan</td>\n",
              "      <td>AFG</td>\n",
              "      <td>2021-05-26</td>\n",
              "      <td>590454.0</td>\n",
              "      <td>479372.0</td>\n",
              "      <td>111082.0</td>\n",
              "      <td>6768.0</td>\n",
              "      <td>1.52</td>\n",
              "      <td>1.23</td>\n",
              "      <td>0.29</td>\n",
              "      <td>174.0</td>\n",
              "      <td>Johnson&amp;Johnson, Oxford/AstraZeneca, Pfizer/Bi...</td>\n",
              "      <td>World Health Organization</td>\n",
              "      <td>https://covid19.who.int/</td>\n",
              "    </tr>\n",
              "    <tr>\n",
              "      <th>4</th>\n",
              "      <td>Afghanistan</td>\n",
              "      <td>AFG</td>\n",
              "      <td>2021-05-27</td>\n",
              "      <td>593313.0</td>\n",
              "      <td>479574.0</td>\n",
              "      <td>113739.0</td>\n",
              "      <td>6487.0</td>\n",
              "      <td>1.52</td>\n",
              "      <td>1.23</td>\n",
              "      <td>0.29</td>\n",
              "      <td>167.0</td>\n",
              "      <td>Johnson&amp;Johnson, Oxford/AstraZeneca, Pfizer/Bi...</td>\n",
              "      <td>World Health Organization</td>\n",
              "      <td>https://covid19.who.int/</td>\n",
              "    </tr>\n",
              "  </tbody>\n",
              "</table>\n",
              "</div>"
            ],
            "text/plain": [
              "       country iso_code  ...                source_name            source_website\n",
              "0  Afghanistan      AFG  ...  World Health Organization  https://covid19.who.int/\n",
              "1  Afghanistan      AFG  ...  World Health Organization  https://covid19.who.int/\n",
              "2  Afghanistan      AFG  ...  World Health Organization  https://covid19.who.int/\n",
              "3  Afghanistan      AFG  ...  World Health Organization  https://covid19.who.int/\n",
              "4  Afghanistan      AFG  ...  World Health Organization  https://covid19.who.int/\n",
              "\n",
              "[5 rows x 14 columns]"
            ]
          },
          "metadata": {
            "tags": []
          },
          "execution_count": 5
        }
      ]
    },
    {
      "cell_type": "markdown",
      "metadata": {
        "id": "YWCHj1zKkrCB"
      },
      "source": [
        "## Transformación de datos\n",
        "Según la documentación de 'Pandas', algunas de las columnas de nuestro dataset son candidatas para ser de tipo 'category', ya que contienen un número limitado de valores posibles, como en el caso de los paises y de las organizaciones que proporcionan los datos contenidos en nuestro dataset.\n",
        "<br><br>\n",
        "Dicha documentación nos explica que algunas de las ventajas de usar este tipo de dato es que ahorra memoria y que, sobre todo, las columnas convertidas permitirán que ciertas bibliotecas las interpreten más facilmente como variables categóricas al momento de realizar gráficas o utilizar métodos estadísticos.\n"
      ]
    },
    {
      "cell_type": "code",
      "metadata": {
        "colab": {
          "base_uri": "https://localhost:8080/"
        },
        "id": "T-MgU7zcdMCg",
        "outputId": "4030f5e2-b35a-42c9-93d2-6deaf6e823a2"
      },
      "source": [
        "tipos_nuevos = {\n",
        "    'country': 'category',\n",
        "    'iso_code': 'category',\n",
        "    'source_name': 'category'\n",
        "}\n",
        "\n",
        "df = df.astype(tipos_nuevos)\n",
        "\n",
        "df['date'] = pd.to_datetime(df['date'], format='%Y-%m-%d')\n",
        "\n",
        "df.info()"
      ],
      "execution_count": 6,
      "outputs": [
        {
          "output_type": "stream",
          "text": [
            "<class 'pandas.core.frame.DataFrame'>\n",
            "RangeIndex: 16400 entries, 0 to 16399\n",
            "Data columns (total 14 columns):\n",
            " #   Column                               Non-Null Count  Dtype         \n",
            "---  ------                               --------------  -----         \n",
            " 0   country                              16400 non-null  category      \n",
            " 1   iso_code                             16400 non-null  category      \n",
            " 2   date                                 16400 non-null  datetime64[ns]\n",
            " 3   total_vaccinations                   16400 non-null  float64       \n",
            " 4   people_vaccinated                    16400 non-null  float64       \n",
            " 5   people_fully_vaccinated              16400 non-null  float64       \n",
            " 6   daily_vaccinations                   16400 non-null  float64       \n",
            " 7   total_vaccinations_per_hundred       16400 non-null  float64       \n",
            " 8   people_vaccinated_per_hundred        16400 non-null  float64       \n",
            " 9   people_fully_vaccinated_per_hundred  16400 non-null  float64       \n",
            " 10  daily_vaccinations_per_million       16400 non-null  float64       \n",
            " 11  vaccines                             16400 non-null  object        \n",
            " 12  source_name                          16400 non-null  category      \n",
            " 13  source_website                       16400 non-null  object        \n",
            "dtypes: category(3), datetime64[ns](1), float64(8), object(2)\n",
            "memory usage: 1.5+ MB\n"
          ],
          "name": "stdout"
        }
      ]
    },
    {
      "cell_type": "markdown",
      "metadata": {
        "id": "ALvbrS4VtVOm"
      },
      "source": [
        "Tras todo el proceso de limpieza de datos, el tamaño de la base de datos paso de 4.2 MB a solo 1.8 MB, y con el proceso de transformación de datos, se redujo de 1.8 MB a solo 1.5 MB. \n",
        "\n",
        "Es decir, el proceso de limpieza logro disminuir el tamaño de la base en más de 50% y ofrece la futura facilidad para analizar los datos, mientras que el proceso de transformar los datos en las variables adecuadas redujo en un 16% el tamaño de la base ya limpia. Esto es uno de los beneficios de realizar ambos procesos."
      ]
    },
    {
      "cell_type": "markdown",
      "metadata": {
        "id": "ms8Owzf_M3v8"
      },
      "source": [
        "## Resolución de preguntas\n",
        "\n",
        "Desde los primeros pasos del proyecto se plantearon algunas preguntas que pudieran ser de interés para el tema de investigación. Ahora que se dispone de una base de datos limpia, ha llegado la hora de responderlas.\n",
        "\n",
        "### ¿En qué país el programa de vacunación está más avanzado?"
      ]
    },
    {
      "cell_type": "code",
      "metadata": {
        "colab": {
          "base_uri": "https://localhost:8080/"
        },
        "id": "0vFqouJXRJHw",
        "outputId": "e2806813-b51e-48e0-8d13-6253ce847111"
      },
      "source": [
        "df[df['total_vaccinations_per_hundred'] == df['total_vaccinations_per_hundred'].max()]['country']"
      ],
      "execution_count": 7,
      "outputs": [
        {
          "output_type": "execute_result",
          "data": {
            "text/plain": [
              "5529    Gibraltar\n",
              "Name: country, dtype: category\n",
              "Categories (214, object): ['Afghanistan', 'Albania', 'Algeria', 'Andorra', ..., 'Wallis and Futuna',\n",
              "                           'Yemen', 'Zambia', 'Zimbabwe']"
            ]
          },
          "metadata": {
            "tags": []
          },
          "execution_count": 7
        }
      ]
    },
    {
      "cell_type": "markdown",
      "metadata": {
        "id": "vTbx6xhMPsc6"
      },
      "source": [
        "Gibraltar propiamente no es un país, sino un territorio británico de Ultramar con una población estimada de 33,701 personas en 2019. Esto explicaría por que es el territorio con la campaña de vacunación más rápida, debido a su escasa población y a pertenecer al Reino Unido, uno de los países que se ha caracterizado por una efectiva campaña de vacunación."
      ]
    },
    {
      "cell_type": "markdown",
      "metadata": {
        "id": "7m_Cj_Z9M7Sc"
      },
      "source": [
        "### ¿Dónde hay más personas vacunadas por día? "
      ]
    },
    {
      "cell_type": "code",
      "metadata": {
        "colab": {
          "base_uri": "https://localhost:8080/"
        },
        "id": "V7gqzS3rNLlt",
        "outputId": "184b856d-c801-41a2-df23-f683e2b91a7d"
      },
      "source": [
        "df[df['daily_vaccinations_per_million'] == df['daily_vaccinations_per_million'].max()]['country']"
      ],
      "execution_count": 8,
      "outputs": [
        {
          "output_type": "execute_result",
          "data": {
            "text/plain": [
              "1529    Bhutan\n",
              "Name: country, dtype: category\n",
              "Categories (214, object): ['Afghanistan', 'Albania', 'Algeria', 'Andorra', ..., 'Wallis and Futuna',\n",
              "                           'Yemen', 'Zambia', 'Zimbabwe']"
            ]
          },
          "metadata": {
            "tags": []
          },
          "execution_count": 8
        }
      ]
    },
    {
      "cell_type": "markdown",
      "metadata": {
        "id": "xkB_oyQ5smbN"
      },
      "source": [
        "Bután es un país de Asia del Sur con una población de 763,092 al año 2019. El resultado obtenido nos indica que Bután consiguió vacunar a 0.15% de su población en un solo día en la parte más avanzada de la campaña de vacunación."
      ]
    },
    {
      "cell_type": "markdown",
      "metadata": {
        "id": "i_IOYG7dNA97"
      },
      "source": [
        "### ¿Cuál es el rating de vacunas más difundidas a nivel mundial? "
      ]
    },
    {
      "cell_type": "code",
      "metadata": {
        "colab": {
          "base_uri": "https://localhost:8080/"
        },
        "id": "-MYP48s1SHym",
        "outputId": "7807030f-3359-4822-af63-bb522e46dda2"
      },
      "source": [
        "df.groupby('vaccines').size().sort_values(ascending=False).head(5)"
      ],
      "execution_count": 9,
      "outputs": [
        {
          "output_type": "execute_result",
          "data": {
            "text/plain": [
              "vaccines\n",
              "Johnson&Johnson, Moderna, Oxford/AstraZeneca, Pfizer/BioNTech        3448\n",
              "Moderna, Oxford/AstraZeneca, Pfizer/BioNTech                         2037\n",
              "Moderna, Pfizer/BioNTech                                             1341\n",
              "Oxford/AstraZeneca, Pfizer/BioNTech, Sinopharm/Beijing, Sputnik V     894\n",
              "Oxford/AstraZeneca, Pfizer/BioNTech                                   745\n",
              "dtype: int64"
            ]
          },
          "metadata": {
            "tags": []
          },
          "execution_count": 9
        }
      ]
    },
    {
      "cell_type": "markdown",
      "metadata": {
        "id": "hCqOw3Lcuzor"
      },
      "source": [
        "Este indicador nos muestra que conjunto de vacunas es aplicado mayormente por los países, siendo la combinación de Johnson&Johnson, Moderna, Oxford/AstraZeneca, Pfizer/BioNTech la que más predomina. Sin embargo, es importante notar que hay un registro de estas combinaciones de vacunas por cada día que determinado país reporta, sin embargo, nos sigue dando una idea apropiada debido a que los países que reportan con mayor frecuencia son aquellos que tienen una mejor organización en su campaña de vacunación."
      ]
    },
    {
      "cell_type": "markdown",
      "metadata": {
        "id": "gqq7QaJcMreN"
      },
      "source": [
        "### ¿Qué países reportan sus datos con mayor frecuencia?"
      ]
    },
    {
      "cell_type": "code",
      "metadata": {
        "colab": {
          "base_uri": "https://localhost:8080/"
        },
        "id": "i9Kji3SaKXf0",
        "outputId": "77aca6b1-370b-4967-ed68-886ffa28db09"
      },
      "source": [
        "df.groupby('country').size().sort_values(ascending=False).head(5)\n"
      ],
      "execution_count": 10,
      "outputs": [
        {
          "output_type": "execute_result",
          "data": {
            "text/plain": [
              "country\n",
              "Scotland       239\n",
              "Germany        226\n",
              "Switzerland    224\n",
              "Belgium        223\n",
              "England        221\n",
              "dtype: int64"
            ]
          },
          "metadata": {
            "tags": []
          },
          "execution_count": 10
        }
      ]
    },
    {
      "cell_type": "markdown",
      "metadata": {
        "id": "V8dfoy8gvf8n"
      },
      "source": [
        "Como podemos apreciar, los 5 países que con mayor frecuancia reportan información sobre el avanza de la campaña de vacunación son todos europeos: Escocia (país constituyente del Reino Unido), Alemania, Suiza, Bélgica y Reino Unido. En este indicador influye tanto la periodicidad como la fecha de inicio de vacunación."
      ]
    },
    {
      "cell_type": "markdown",
      "metadata": {
        "id": "kYX1q2nKQUTK"
      },
      "source": [
        "### ¿Cuáles son los sitios web que brindan mayor información? "
      ]
    },
    {
      "cell_type": "code",
      "metadata": {
        "colab": {
          "base_uri": "https://localhost:8080/"
        },
        "id": "yiyZWVZtQXCi",
        "outputId": "4448ec19-1e5f-4d16-d059-b37faf51e99b"
      },
      "source": [
        "df.groupby('source_website').size().sort_values(ascending=False).head(5)"
      ],
      "execution_count": 11,
      "outputs": [
        {
          "output_type": "execute_result",
          "data": {
            "text/plain": [
              "source_website\n",
              "https://coronavirus.data.gov.uk/details/vaccinations                  1080\n",
              "https://covid19.who.int/                                               545\n",
              "https://impfdashboard.de/                                              226\n",
              "https://www.covid19.admin.ch/en/epidemiologic/vacc-doses?detGeo=CH     224\n",
              "https://epistat.wiv-isp.be/covid/                                      223\n",
              "dtype: int64"
            ]
          },
          "metadata": {
            "tags": []
          },
          "execution_count": 11
        }
      ]
    },
    {
      "cell_type": "markdown",
      "metadata": {
        "id": "cwsMxTp8wJc9"
      },
      "source": [
        "Finalmente, este indicador nos revela de que sitios se consulta más veces la información. Con la excepción de los primeros dos sitios webs, existe una relación entre los últimos dos indicadores, ya que los tercer. cuarto y quinto sitios web más consultados son los que corresponden a Alemania, Suiza y Bélgica. El segundo sitio web más consultado es el de la Organización Mundial de la Salud, lo cual tiene sentido pues también dispone de información de muchos países en caso de no disponer con cifras de una nación determinada, mientras que el primer lugar por mucha diferencia es el Reino Unido, debido a que cada país constituyente (Inglaterra, Gales, Escocia e Irlanda del Norte) reportan por separado.\n",
        "\n",
        "## Conclusión\n",
        "\n",
        "Analizando los indicadores calculados previamente, es posible observa la situación en algunos de los países con mejores avances en sus campañas de vacunación. Es importante analizar la situación epidemiológica actual de estos países debido a la aparición de nuevas variables que podían reducir la eficacia de las vacunas al prevenir principalmente hospitalizaciones y muertes que pudieran colapsar los sistemas de salud alrededor del mundo, y esto podría provocar que el estado de pandemia se extienda aún más, con todas las consecuencias negativas tanto a nivel salud como a nivel económico que eso implicaría."
      ]
    }
  ]
}